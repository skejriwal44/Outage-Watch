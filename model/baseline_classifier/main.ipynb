{
 "cells": [
  {
   "cell_type": "code",
   "execution_count": null,
   "metadata": {
    "id": "W_962-sh6N2S"
   },
   "outputs": [],
   "source": [
    "from numpy.random import seed\n",
    "import tensorflow as tf\n",
    "import os\n",
    "from data_preprocessing import preprocessing,train_test\n",
    "from models import model_builder,model_fit\n",
    "from evaluation import validate_model"
   ]
  },
  {
   "cell_type": "code",
   "execution_count": null,
   "metadata": {},
   "outputs": [],
   "source": [
    "input_file = '../sample_dataset/agreementsearch_90percentile_1804-3006_predwindow_1_mdn_1.csv' #Location of dataset csv\n",
    "timesteps = 12 #Timesteps of the input data to be considered.\n",
    "split = 0.2 #Split for test-train data\n",
    "lstm_variant='bilstm' #Temporal model to be used, Available options: simpleRNN/gru/stacked_lstm/lstm/stacked_bilstm/bilstm\n",
    "epoch_cnt = 30 #Epoch counts for model run \n",
    "batch_size =  32 #Batch size\n",
    "no_of_metrics = 7 #Number of metrics predicting\n",
    "tgt_dir = 'results/' #Target directory where to save results data\n",
    "file_det = 'agreementsearch_90percentile_1804-3006_predwindow_1_' #Target file to save data\n",
    "\n",
    "if not os.path.exists(tgt_dir):\n",
    "    os.makedirs(tgt_dir)"
   ]
  },
  {
   "cell_type": "markdown",
   "metadata": {},
   "source": [
    "### Model Execution"
   ]
  },
  {
   "cell_type": "code",
   "execution_count": null,
   "metadata": {
    "scrolled": true,
    "tags": []
   },
   "outputs": [],
   "source": [
    "import warnings\n",
    "warnings.filterwarnings(\"ignore\")\n",
    "seed_value= 42 \n",
    "seed(seed_value)\n",
    "tf.random.set_seed(seed_value)\n",
    "\n",
    "\n",
    "#Preprocessing\n",
    "\n",
    "input_and_labels,classifier_layers=preprocessing(input_file)\n",
    "trainX,testX,y_train_classifier,y_test_classifier=train_test(input_and_labels,classifier_layers,timesteps,split)\n",
    "\n",
    "#Model generation\n",
    "\n",
    "model=model_builder(trainX,classifier_layers,lstm_variant)\n",
    "\n",
    "#Model run\n",
    "history = model_fit(model,trainX,testX,y_train_classifier,y_test_classifier,epoch_cnt,batch_size)\n",
    "\n",
    "#Evaluation\n",
    "validate_model(model,history,testX,classifier_layers,y_test_classifier,file_det,y_train_classifier,no_of_metrics,tgt_dir)"
   ]
  },
  {
   "cell_type": "code",
   "execution_count": null,
   "metadata": {},
   "outputs": [],
   "source": []
  }
 ],
 "metadata": {
  "accelerator": "GPU",
  "colab": {
   "name": "LSTM-cross_entropy.ipynb",
   "provenance": []
  },
  "kernelspec": {
   "display_name": "Python 3",
   "language": "python",
   "name": "python3"
  },
  "language_info": {
   "codemirror_mode": {
    "name": "ipython",
    "version": 3
   },
   "file_extension": ".py",
   "mimetype": "text/x-python",
   "name": "python",
   "nbconvert_exporter": "python",
   "pygments_lexer": "ipython3",
   "version": "3.8.5"
  }
 },
 "nbformat": 4,
 "nbformat_minor": 4
}
