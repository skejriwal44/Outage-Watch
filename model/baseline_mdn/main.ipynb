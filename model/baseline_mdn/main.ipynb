{
 "cells": [
  {
   "cell_type": "code",
   "execution_count": null,
   "metadata": {
    "id": "W_962-sh6N2S"
   },
   "outputs": [],
   "source": [
    "from numpy.random import seed\n",
    "import tensorflow as tf\n",
    "import os\n",
    "from data_preprocessing import preprocessing,train_test\n",
    "from models import model_builder,model_fit\n",
    "from evaluation import generate_test_data,mdn_auc_score"
   ]
  },
  {
   "cell_type": "code",
   "execution_count": null,
   "metadata": {},
   "outputs": [],
   "source": [
    "input_file = '../sample_dataset/dummyservice_90percentile_1804-3006_predwindow_1_mdn_1.csv' #Location of dataset csv\n",
    "timesteps = 12 #Timesteps of the input data to be considered.\n",
    "split = 0.2 #Split for test-train data\n",
    "components = 3 #Number of gaussian distributions to be used.\n",
    "neurons = 200 #Number of neurons in the mdn layer.\n",
    "lstm_variant='bilstm' #Temporal model to be used, Available options: simpleRNN/gru/stacked_lstm/lstm/stacked_bilstm/bilstm\n",
    "epoch_cnt = 1 #Epoch counts for model run \n",
    "batch_size =  32 #Batch size\n",
    "no_of_metrics = 7 #Number of metrics predicting\n",
    "tgt_dir = 'results/' #Target directory where to save results data\n",
    "file_det = 'dummyservice_90percentile_1804-3006_predwindow_1_' #Target file to save data\n",
    "classifier_layers = ['istio_request_duration_milliseconds_count_5xx_pred',\n",
    " 'apm.service.cpu.usertime.utilization_pred',\n",
    " 'elasticsearch_os_load15_pred',\n",
    " 'apm.service.apdex_pred',\n",
    " 'apm.service.error.count_pred',\n",
    " 'throughput_pred',\n",
    " 'istio_request_duration_milliseconds_count_4xx_pred'] # Name of columns containing classification data\n",
    "file_pred = '../sample_dataset/dummyservice_95percentile_1804-3006_predwindow_1_mdn_1.csv' #Location of csv to test\n",
    "threshold_percentage = 95 #Threshold percentage of the file we are testing.\n",
    "pred_window = 1 #Prediction window of the file (should be same for train data and testing data)\n",
    "tails =  {'istio_request_duration_milliseconds_count_5xx': 'r',\n",
    "          'apm.service.cpu.usertime.utilization': 'r',\n",
    "          'elasticsearch_os_load15': 'r',\n",
    "          'apm.service.error.count': 'r',\n",
    "          'throughput': 'l',\n",
    "          'istio_request_duration_milliseconds_count_4xx': 'r',\n",
    "          'apm.service.apdex': 'l'} #Tails of the metrics\n",
    "\n",
    "if not os.path.exists(tgt_dir):\n",
    "    os.makedirs(tgt_dir)"
   ]
  },
  {
   "cell_type": "markdown",
   "metadata": {},
   "source": [
    "### Model Run"
   ]
  },
  {
   "cell_type": "code",
   "execution_count": null,
   "metadata": {
    "scrolled": true,
    "tags": []
   },
   "outputs": [],
   "source": [
    "import warnings\n",
    "warnings.filterwarnings(\"ignore\")\n",
    "seed_value= 42 \n",
    "seed(seed_value)\n",
    "tf.random.set_seed(seed_value)\n",
    "\n",
    "\n",
    "#Preprocessing\n",
    "\n",
    "input_and_labels,mdn_layers=preprocessing(input_file)\n",
    "trainX,testX,y_train_mdn,y_test_mdn,scalerY=train_test(input_and_labels,mdn_layers,split,timesteps)\n",
    "\n",
    "#Model generation\n",
    "model=model_builder(trainX,mdn_layers,lstm_variant,neurons,components)\n",
    "\n",
    "#Model run\n",
    "history = model_fit(model,trainX,testX,y_train_mdn,y_test_mdn,epoch_cnt,batch_size)\n",
    "\n",
    "#Evaluation\n",
    "y_test = generate_test_data(file_pred,classifier_layers,split,timesteps)\n",
    "df_prob,thresholds = mdn_auc_score(input_and_labels,\n",
    "                                   tgt_dir,file_det,\n",
    "                                   scalerY,\n",
    "                                   mdn_layers,\n",
    "                                   model,testX,\n",
    "                                   y_test,\n",
    "                                   threshold_percentage,\n",
    "                                   pred_window,\n",
    "                                   tails)"
   ]
  }
 ],
 "metadata": {
  "accelerator": "GPU",
  "colab": {
   "name": "LSTM-cross_entropy.ipynb",
   "provenance": []
  },
  "kernelspec": {
   "display_name": "Python 3",
   "language": "python",
   "name": "python3"
  },
  "language_info": {
   "codemirror_mode": {
    "name": "ipython",
    "version": 3
   },
   "file_extension": ".py",
   "mimetype": "text/x-python",
   "name": "python",
   "nbconvert_exporter": "python",
   "pygments_lexer": "ipython3",
   "version": "3.8.5"
  }
 },
 "nbformat": 4,
 "nbformat_minor": 4
}
